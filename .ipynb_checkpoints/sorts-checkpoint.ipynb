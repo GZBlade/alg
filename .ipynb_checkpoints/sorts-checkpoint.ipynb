{
 "cells": [
  {
   "cell_type": "code",
   "execution_count": 129,
   "metadata": {},
   "outputs": [],
   "source": [
    "import random\n",
    "import math\n",
    "import sys\n",
    "import numpy as np"
   ]
  },
  {
   "cell_type": "code",
   "execution_count": 53,
   "metadata": {},
   "outputs": [
    {
     "data": {
      "text/plain": [
       "True"
      ]
     },
     "execution_count": 53,
     "metadata": {},
     "output_type": "execute_result"
    }
   ],
   "source": [
    "isinstance(1,int)"
   ]
  },
  {
   "cell_type": "code",
   "execution_count": 106,
   "metadata": {},
   "outputs": [],
   "source": [
    "# 第一步对相同长度的两个顺序数列归并排序\n",
    "# 顺序的假定很重要 \n",
    "# 假设和实现的分离\n",
    "def merge(x,y):\n",
    "    len_x = len(x)\n",
    "    len_y = len(y)\n",
    "    i,j=0,0\n",
    "    c=[]\n",
    "#     print('c:',c)\n",
    "    while (i<len_x) & (j<len_y):\n",
    "        if x[i]<y[j]:\n",
    "            c.append(x[i])\n",
    "            i=i+1\n",
    "#             print('cx:',c)\n",
    "        else:\n",
    "            c.append(y[j])\n",
    "            j=j+1\n",
    "#             print('cy',c)\n",
    "    if i>j:\n",
    "        c.extend(y[j:len_y])\n",
    "    else:\n",
    "        c.extend(x[i:len_x])\n",
    "#     print('c:',c)\n",
    "    return c\n",
    "# 方案一不考虑形参实参共变的情况：\n",
    "def merge_divide(a):\n",
    "    len_a=len(a)\n",
    "    up=int(len_a/2)\n",
    "    a1=a[:up].copy()\n",
    "    a2=a[up:].copy()\n",
    "    if up==1:\n",
    "        return merge(a1,a2)\n",
    "    else:\n",
    "        newa1=merge_divide(a1)\n",
    "        newa2=merge_divide(a2)\n",
    "        return merge(newa1,newa2)\n",
    "        "
   ]
  },
  {
   "cell_type": "code",
   "execution_count": 176,
   "metadata": {},
   "outputs": [],
   "source": [
    "# 方案二考虑形参实参共变的情况：\n",
    "def merge2(s,m,e,x):\n",
    "    if m==e:\n",
    "        if x[s]>x[e]:\n",
    "            x[s],x[e]=x[e],x[s]\n",
    "        c=x[s:e+1]\n",
    "    else:\n",
    "        p1,p2=s,m\n",
    "        c=[]\n",
    "        while (p1<m) & (p2<e):\n",
    "            if x[p1]<x[p2]:\n",
    "                c.append(x[p1])\n",
    "                p1=p1+1\n",
    "            else:\n",
    "                c.append(x[p2])\n",
    "                p2=p2+1\n",
    "        if p1<m:\n",
    "            c.extend(x[p1:m])\n",
    "        else:\n",
    "            c.extend(x[p2:e])\n",
    "        x[s:e]=c\n",
    "    print('c:',c)\n",
    "def merge_sort(s,e,x):\n",
    "    print('s,e',s,e)\n",
    "    global k\n",
    "    k=k+1\n",
    "    if k>100:\n",
    "        sys.exit()\n",
    "    if((s+1)<e):\n",
    "#         m=math.ceil(s+(e-s)/2)\n",
    "        m=math.floor(s+(e-s)/2)\n",
    "#         print('s,m,e:',s,m,e)\n",
    "        merge_sort(s,m,x)\n",
    "        merge_sort(m,e,x)\n",
    "        merge2(s,m,e,x)\n",
    "    else:\n",
    "        merge2(s,e,e,x)\n",
    "#         return"
   ]
  },
  {
   "cell_type": "code",
   "execution_count": 178,
   "metadata": {
    "scrolled": false
   },
   "outputs": [
    {
     "name": "stdout",
     "output_type": "stream",
     "text": [
      "s,e 0 15\n",
      "s,e 0 7\n",
      "s,e 0 3\n",
      "s,e 0 1\n",
      "c: [0, 10]\n",
      "s,e 1 3\n",
      "s,e 1 2\n",
      "c: [2, 10]\n",
      "s,e 2 3\n",
      "c: [8, 10]\n",
      "c: [2, 8]\n",
      "c: [0, 2, 8]\n",
      "s,e 3 7\n",
      "s,e 3 5\n",
      "s,e 3 4\n",
      "c: [10, 14]\n",
      "s,e 4 5\n",
      "c: [11, 14]\n",
      "c: [10, 11]\n",
      "s,e 5 7\n",
      "s,e 5 6\n",
      "c: [6, 14]\n",
      "s,e 6 7\n",
      "c: [9, 14]\n",
      "c: [6, 9]\n",
      "c: [6, 9, 10, 11]\n",
      "c: [0, 2, 6, 8, 9, 10, 11]\n",
      "s,e 7 15\n",
      "s,e 7 11\n",
      "s,e 7 9\n",
      "s,e 7 8\n",
      "c: [13, 14]\n",
      "s,e 8 9\n",
      "c: [14, 15]\n",
      "c: [13, 14]\n",
      "s,e 9 11\n",
      "s,e 9 10\n",
      "c: [1, 15]\n",
      "s,e 10 11\n",
      "c: [7, 15]\n",
      "c: [1, 7]\n",
      "c: [1, 7, 13, 14]\n",
      "s,e 11 15\n",
      "s,e 11 13\n",
      "s,e 11 12\n",
      "c: [3, 15]\n",
      "s,e 12 13\n",
      "c: [4, 15]\n",
      "c: [3, 4]\n",
      "s,e 13 15\n",
      "s,e 13 14\n",
      "c: [5, 15]\n",
      "s,e 14 15\n",
      "c: [12, 15]\n",
      "c: [5, 12]\n",
      "c: [3, 4, 5, 12]\n",
      "c: [1, 3, 4, 5, 7, 12, 13, 14]\n",
      "c: [0, 1, 2, 3, 4, 5, 6, 7, 8, 9, 10, 11, 12, 13, 14]\n"
     ]
    },
    {
     "data": {
      "text/plain": [
       "[0, 1, 2, 3, 4, 5, 6, 7, 8, 9, 10, 11, 12, 13, 14, 15]"
      ]
     },
     "execution_count": 178,
     "metadata": {},
     "output_type": "execute_result"
    }
   ],
   "source": [
    "k=0\n",
    "x4=[1,3,2,4]\n",
    "x16=[10,  0,  2,  8, 14, 11,  6,  9, 13, 15,  1,  7,  3,  4,  5, 12]\n",
    "merge_sort(0,15,x16)\n",
    "x16"
   ]
  },
  {
   "cell_type": "code",
   "execution_count": null,
   "metadata": {
    "collapsed": true
   },
   "outputs": [],
   "source": [
    "            \n",
    "    \n",
    "    \n",
    "    \n",
    "def merge_divide():\n",
    "    pass"
   ]
  },
  {
   "cell_type": "code",
   "execution_count": 103,
   "metadata": {
    "scrolled": true
   },
   "outputs": [
    {
     "data": {
      "text/plain": [
       "[10, 2, 13, 15, 6, 12, 5, 3, 0, 8, 1, 9, 4, 7, 11, 14]"
      ]
     },
     "execution_count": 103,
     "metadata": {},
     "output_type": "execute_result"
    }
   ],
   "source": [
    "a=[10,  0,  2,  8, 14, 11,  6,  9, 13, 15,  1,  7,  3,  4,  5, 12]\n",
    "random.shuffle(a)\n",
    "a"
   ]
  },
  {
   "cell_type": "code",
   "execution_count": 107,
   "metadata": {},
   "outputs": [
    {
     "data": {
      "text/plain": [
       "[0, 1, 2, 3, 4, 5, 6, 7, 8, 9, 10, 11, 12, 13, 14, 15]"
      ]
     },
     "execution_count": 107,
     "metadata": {},
     "output_type": "execute_result"
    }
   ],
   "source": [
    "merge_divide(a)"
   ]
  },
  {
   "cell_type": "code",
   "execution_count": null,
   "metadata": {
    "collapsed": true
   },
   "outputs": [],
   "source": [
    "def merge(x,y):\n",
    "    len_x = len(x)\n",
    "    len_y = len(y)\n",
    "    i,j=0,0\n",
    "    c=[]\n",
    "    while (i<len_x) & (j<len_y):\n",
    "        if a[i]<b[j]:\n",
    "            c.append(a[i])\n",
    "            i=i+1\n",
    "        else:\n",
    "            c.append(b[j])\n",
    "            j=j+1\n",
    "    if i>j:\n",
    "        c.extend(b[j:])\n",
    "    else:\n",
    "        c.extend(a[i:])\n",
    "    return c"
   ]
  },
  {
   "cell_type": "code",
   "execution_count": 49,
   "metadata": {},
   "outputs": [
    {
     "ename": "TypeError",
     "evalue": "object of type 'int' has no len()",
     "output_type": "error",
     "traceback": [
      "\u001b[1;31m---------------------------------------------------------------------------\u001b[0m",
      "\u001b[1;31mTypeError\u001b[0m                                 Traceback (most recent call last)",
      "\u001b[1;32m<ipython-input-49-263582826300>\u001b[0m in \u001b[0;36m<module>\u001b[1;34m()\u001b[0m\n\u001b[0;32m      1\u001b[0m \u001b[0ma\u001b[0m\u001b[1;33m=\u001b[0m\u001b[0mrandom\u001b[0m\u001b[1;33m.\u001b[0m\u001b[0mrandint\u001b[0m\u001b[1;33m(\u001b[0m\u001b[1;36m1\u001b[0m\u001b[1;33m,\u001b[0m\u001b[1;36m16\u001b[0m\u001b[1;33m)\u001b[0m\u001b[1;33m\u001b[0m\u001b[0m\n\u001b[1;32m----> 2\u001b[1;33m \u001b[0mm\u001b[0m\u001b[1;33m=\u001b[0m\u001b[0mdivide\u001b[0m\u001b[1;33m(\u001b[0m\u001b[0ma\u001b[0m\u001b[1;33m)\u001b[0m\u001b[1;33m\u001b[0m\u001b[0m\n\u001b[0m",
      "\u001b[1;32m<ipython-input-43-e8eed78cfe29>\u001b[0m in \u001b[0;36mdivide\u001b[1;34m(a)\u001b[0m\n\u001b[0;32m     19\u001b[0m \u001b[1;31m# 第二步从长序列中裂变出短序列直到二元组形式\u001b[0m\u001b[1;33m\u001b[0m\u001b[1;33m\u001b[0m\u001b[0m\n\u001b[0;32m     20\u001b[0m \u001b[1;32mdef\u001b[0m \u001b[0mdivide\u001b[0m\u001b[1;33m(\u001b[0m\u001b[0ma\u001b[0m\u001b[1;33m)\u001b[0m\u001b[1;33m:\u001b[0m\u001b[1;33m\u001b[0m\u001b[0m\n\u001b[1;32m---> 21\u001b[1;33m     \u001b[0mlen_a\u001b[0m\u001b[1;33m=\u001b[0m\u001b[0mlen\u001b[0m\u001b[1;33m(\u001b[0m\u001b[0ma\u001b[0m\u001b[1;33m)\u001b[0m\u001b[1;33m\u001b[0m\u001b[0m\n\u001b[0m\u001b[0;32m     22\u001b[0m     \u001b[0mup\u001b[0m\u001b[1;33m=\u001b[0m\u001b[0mint\u001b[0m\u001b[1;33m(\u001b[0m\u001b[0mlen_a\u001b[0m\u001b[1;33m/\u001b[0m\u001b[1;36m2\u001b[0m\u001b[1;33m)\u001b[0m\u001b[1;33m\u001b[0m\u001b[0m\n\u001b[0;32m     23\u001b[0m     \u001b[0ma1\u001b[0m\u001b[1;33m=\u001b[0m\u001b[0ma\u001b[0m\u001b[1;33m[\u001b[0m\u001b[1;33m:\u001b[0m\u001b[0mup\u001b[0m\u001b[1;33m]\u001b[0m\u001b[1;33m\u001b[0m\u001b[0m\n",
      "\u001b[1;31mTypeError\u001b[0m: object of type 'int' has no len()"
     ]
    }
   ],
   "source": [
    "a=random.randint(1,16)\n",
    "m=divide(a)"
   ]
  },
  {
   "cell_type": "code",
   "execution_count": 38,
   "metadata": {},
   "outputs": [
    {
     "data": {
      "text/plain": [
       "([1, 3], [2, 4])"
      ]
     },
     "execution_count": 38,
     "metadata": {},
     "output_type": "execute_result"
    }
   ],
   "source": [
    "x=[1,3,2,4]\n",
    "divide(x)"
   ]
  },
  {
   "cell_type": "code",
   "execution_count": 37,
   "metadata": {},
   "outputs": [
    {
     "data": {
      "text/plain": [
       "6"
      ]
     },
     "execution_count": 37,
     "metadata": {},
     "output_type": "execute_result"
    }
   ],
   "source": [
    "def digui(n):\n",
    "    if n==1:\n",
    "        return 1\n",
    "    return n*digui(n-1)\n",
    "digui(3)"
   ]
  },
  {
   "cell_type": "code",
   "execution_count": null,
   "metadata": {
    "collapsed": true
   },
   "outputs": [],
   "source": []
  },
  {
   "cell_type": "code",
   "execution_count": 23,
   "metadata": {
    "scrolled": true
   },
   "outputs": [
    {
     "data": {
      "text/plain": [
       "[1, 2, 3, 4]"
      ]
     },
     "execution_count": 23,
     "metadata": {},
     "output_type": "execute_result"
    }
   ],
   "source": [
    "# 归并排序\n",
    "a=[1,3]\n",
    "b=[2,4]\n",
    "merge(a,b)"
   ]
  },
  {
   "cell_type": "code",
   "execution_count": 28,
   "metadata": {},
   "outputs": [
    {
     "data": {
      "text/plain": [
       "([7, 3, 2, 1], [4, 5, 6, 8])"
      ]
     },
     "execution_count": 28,
     "metadata": {},
     "output_type": "execute_result"
    }
   ],
   "source": [
    "a=[7,3,2,1,4,5,6,8]\n",
    "len_a=len(a)\n",
    "up=int(len_a/2)\n",
    "a1=a[:up]\n",
    "a2=a[up:]"
   ]
  }
 ],
 "metadata": {
  "kernelspec": {
   "display_name": "Python 3",
   "language": "python",
   "name": "python3"
  },
  "language_info": {
   "codemirror_mode": {
    "name": "ipython",
    "version": 3
   },
   "file_extension": ".py",
   "mimetype": "text/x-python",
   "name": "python",
   "nbconvert_exporter": "python",
   "pygments_lexer": "ipython3",
   "version": "3.6.1"
  }
 },
 "nbformat": 4,
 "nbformat_minor": 2
}
